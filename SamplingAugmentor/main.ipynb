{
 "cells": [
  {
   "cell_type": "code",
   "execution_count": 2,
   "metadata": {},
   "outputs": [
    {
     "name": "stderr",
     "output_type": "stream",
     "text": [
      "/home/xinxinniu/.conda/envs/CCPGNN/lib/python3.10/site-packages/sklearn/cluster/_kmeans.py:1934: FutureWarning: The default value of `n_init` will change from 3 to 'auto' in 1.4. Set the value of `n_init` explicitly to suppress the warning\n",
      "  super()._check_params_vs_input(X, default_n_init=3)\n",
      "OMP: Warning #182: OMP_STACKSIZE: ignored because KMP_STACKSIZE has been defined\n"
     ]
    },
    {
     "name": "stdout",
     "output_type": "stream",
     "text": [
      "Clustering and selection completed. Results saved to 'selected_molecules.csv'.\n"
     ]
    }
   ],
   "source": [
    "import pandas as pd\n",
    "from rdkit import Chem\n",
    "from rdkit.Chem import AllChem\n",
    "from sklearn.cluster import MiniBatchKMeans\n",
    "import numpy as np\n",
    "\n",
    "df = pd.read_csv('elite.csv')\n",
    "smiles = df['SMILES']\n",
    "\n",
    "fingerprints = [AllChem.GetMorganFingerprintAsBitVect(Chem.MolFromSmiles(s), 2, nBits=2048) for s in smiles]\n",
    "fp_array = np.array([list(fp) for fp in fingerprints])\n",
    "\n",
    "# Cluster with MiniBatchKMeans, the number of clusters is 50\n",
    "kmeans = MiniBatchKMeans(n_clusters=50, random_state=0)\n",
    "clusters = kmeans.fit_predict(fp_array)\n",
    "df['Cluster'] = clusters\n",
    "selected_molecules = pd.DataFrame()\n",
    "\n",
    "# 6 molecules are randomly selected for each cluster\n",
    "for i in range(50):\n",
    "    cluster_molecules = df[df['Cluster'] == i]\n",
    "    selected = cluster_molecules.sample(n=6, replace=True) if len(cluster_molecules) >= 6 else cluster_molecules\n",
    "    selected_molecules = pd.concat([selected_molecules, selected])\n",
    "\n",
    "# selected_molecules.to_csv('elite3_re.csv', index=False)\n",
    "print(\"Clustering and selection completed. Results saved to 'selected_molecules.csv'.\")\n"
   ]
  }
 ],
 "metadata": {
  "kernelspec": {
   "display_name": "CCPGNN",
   "language": "python",
   "name": "python3"
  },
  "language_info": {
   "codemirror_mode": {
    "name": "ipython",
    "version": 3
   },
   "file_extension": ".py",
   "mimetype": "text/x-python",
   "name": "python",
   "nbconvert_exporter": "python",
   "pygments_lexer": "ipython3",
   "version": "3.10.13"
  }
 },
 "nbformat": 4,
 "nbformat_minor": 2
}
